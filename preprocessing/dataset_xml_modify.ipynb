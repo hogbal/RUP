{
 "cells": [
  {
   "cell_type": "markdown",
   "id": "b773c93e",
   "metadata": {},
   "source": [
    "# Import"
   ]
  },
  {
   "cell_type": "code",
   "execution_count": 1,
   "id": "6dd63366",
   "metadata": {},
   "outputs": [],
   "source": [
    "import os\n",
    "from tqdm import tqdm\n",
    "from glob import glob\n",
    "import xml.etree.ElementTree as ET"
   ]
  },
  {
   "cell_type": "markdown",
   "id": "94be313a",
   "metadata": {},
   "source": [
    "# xml file load"
   ]
  },
  {
   "cell_type": "code",
   "execution_count": 13,
   "id": "8c028b7a",
   "metadata": {},
   "outputs": [
    {
     "data": {
      "text/plain": [
       "(['dataset/train/pet118.xml',\n",
       "  'dataset/train/ps653.xml',\n",
       "  'dataset/train/pet874.xml',\n",
       "  'dataset/train/pp501.xml',\n",
       "  'dataset/train/pet213.xml'],\n",
       " ['dataset/test/pet52.xml',\n",
       "  'dataset/test/pp207.xml',\n",
       "  'dataset/test/pet384.xml',\n",
       "  'dataset/test/ps647.xml',\n",
       "  'dataset/test/pet717.xml'])"
      ]
     },
     "execution_count": 13,
     "metadata": {},
     "output_type": "execute_result"
    }
   ],
   "source": [
    "train_path = glob(\"dataset/train/*.xml\")\n",
    "test_path = glob(\"dataset/test/*.xml\")\n",
    "\n",
    "train_path[:5], test_path[:5]"
   ]
  },
  {
   "cell_type": "markdown",
   "id": "5a20b2c9",
   "metadata": {},
   "source": [
    "# chang path"
   ]
  },
  {
   "cell_type": "code",
   "execution_count": 14,
   "id": "1070d783",
   "metadata": {},
   "outputs": [],
   "source": [
    "chang_train_path = \"/home/hogbal/RUP/pytorch/dataset/train/\"\n",
    "chang_test_path = \"/home/hogbal/RUP/pytorch/dataset/test/\""
   ]
  },
  {
   "cell_type": "code",
   "execution_count": 15,
   "id": "fc8cd745",
   "metadata": {},
   "outputs": [
    {
     "name": "stderr",
     "output_type": "stream",
     "text": [
      "100%|██████████| 215/215 [00:00<00:00, 5803.12it/s]\n"
     ]
    }
   ],
   "source": [
    "for xml_file in tqdm(test_path):\n",
    "    save_path = xml_file\n",
    "    xml_file = open(xml_file, 'rt', encoding='UTF8')\n",
    "\n",
    "    tree = ET.parse(xml_file)\n",
    "    root = tree.getroot()\n",
    "    target_tag = root.find(\"path\")\n",
    "    modified = chang_test_path+os.path.basename(save_path)\n",
    "    target_tag.text = modified\n",
    "    \n",
    "    tree.write(save_path)"
   ]
  },
  {
   "cell_type": "markdown",
   "id": "4900660a",
   "metadata": {},
   "source": [
    "# chang folder"
   ]
  },
  {
   "cell_type": "code",
   "execution_count": 17,
   "id": "aacbfe68",
   "metadata": {},
   "outputs": [
    {
     "name": "stderr",
     "output_type": "stream",
     "text": [
      "100%|██████████| 215/215 [00:00<00:00, 4076.96it/s]\n"
     ]
    }
   ],
   "source": [
    "for xml_file in tqdm(test_path):\n",
    "    save_path = xml_file\n",
    "    xml_file = open(xml_file, 'rt', encoding='UTF8')\n",
    "\n",
    "    tree = ET.parse(xml_file)\n",
    "    root = tree.getroot()\n",
    "    target_tag = root.find(\"folder\")\n",
    "    target_tag.text = 'test'\n",
    "    \n",
    "    tree.write(save_path)"
   ]
  },
  {
   "cell_type": "code",
   "execution_count": null,
   "id": "c828e927",
   "metadata": {},
   "outputs": [],
   "source": []
  }
 ],
 "metadata": {
  "kernelspec": {
   "display_name": "Python 3",
   "language": "python",
   "name": "python3"
  },
  "language_info": {
   "codemirror_mode": {
    "name": "ipython",
    "version": 3
   },
   "file_extension": ".py",
   "mimetype": "text/x-python",
   "name": "python",
   "nbconvert_exporter": "python",
   "pygments_lexer": "ipython3",
   "version": "3.6.9"
  }
 },
 "nbformat": 4,
 "nbformat_minor": 5
}
