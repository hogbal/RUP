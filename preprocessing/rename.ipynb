{
 "cells": [
  {
   "cell_type": "markdown",
   "id": "fewer-hawaii",
   "metadata": {},
   "source": [
    "# import"
   ]
  },
  {
   "cell_type": "code",
   "execution_count": 1,
   "id": "devoted-liabilities",
   "metadata": {},
   "outputs": [],
   "source": [
    "import cv2\n",
    "import os\n",
    "from glob import glob\n",
    "from tqdm import tqdm\n",
    "import matplotlib.pyplot as plt"
   ]
  },
  {
   "cell_type": "code",
   "execution_count": 5,
   "id": "tropical-guyana",
   "metadata": {},
   "outputs": [],
   "source": [
    "path = 'C:/Users/hogbal/Desktop/ps'"
   ]
  },
  {
   "cell_type": "code",
   "execution_count": 12,
   "id": "selected-bacon",
   "metadata": {},
   "outputs": [],
   "source": [
    "def rename_file(label, file_path):\n",
    "    count = 101\n",
    "    for name in tqdm(file_path):\n",
    "        os.rename(name,path+'/'+label+str(count)+'.xml')\n",
    "        count += 1"
   ]
  },
  {
   "cell_type": "code",
   "execution_count": 13,
   "id": "timely-pierce",
   "metadata": {},
   "outputs": [
    {
     "name": "stderr",
     "output_type": "stream",
     "text": [
      "100%|██████████████████████████████████████████████████████████████████████████████| 561/561 [00:00<00:00, 3569.80it/s]\n"
     ]
    }
   ],
   "source": [
    "file_path = glob(path+'/*.xml')\n",
    "\n",
    "rename_file('ps',file_path)"
   ]
  },
  {
   "cell_type": "code",
   "execution_count": null,
   "id": "informed-poland",
   "metadata": {},
   "outputs": [],
   "source": []
  }
 ],
 "metadata": {
  "kernelspec": {
   "display_name": "Python 3",
   "language": "python",
   "name": "python3"
  },
  "language_info": {
   "codemirror_mode": {
    "name": "ipython",
    "version": 3
   },
   "file_extension": ".py",
   "mimetype": "text/x-python",
   "name": "python",
   "nbconvert_exporter": "python",
   "pygments_lexer": "ipython3",
   "version": "3.8.8"
  }
 },
 "nbformat": 4,
 "nbformat_minor": 5
}
