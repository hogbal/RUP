{
 "cells": [
  {
   "cell_type": "markdown",
   "metadata": {},
   "source": [
    "# Import"
   ]
  },
  {
   "cell_type": "code",
   "execution_count": 1,
   "metadata": {},
   "outputs": [],
   "source": [
    "import os\n",
    "from tqdm import tqdm\n",
    "from glob import glob\n",
    "import xml.etree.ElementTree as ET"
   ]
  },
  {
   "cell_type": "markdown",
   "metadata": {},
   "source": [
    "# File Path"
   ]
  },
  {
   "cell_type": "code",
   "execution_count": 2,
   "metadata": {},
   "outputs": [],
   "source": [
    "input_dir = 'input/'\n",
    "output_dir = 'output/'"
   ]
  },
  {
   "cell_type": "code",
   "execution_count": 3,
   "metadata": {},
   "outputs": [
    {
     "data": {
      "text/plain": [
       "['input/ps1019.png',\n",
       " 'input/ps1448.png',\n",
       " 'input/ps1412.png',\n",
       " 'input/ps1476.png',\n",
       " 'input/ps1427.png']"
      ]
     },
     "execution_count": 3,
     "metadata": {},
     "output_type": "execute_result"
    }
   ],
   "source": [
    "input_file_list = glob(input_dir+'*.png')\n",
    "input_file_list[:5]"
   ]
  },
  {
   "cell_type": "markdown",
   "metadata": {},
   "source": [
    "# load file name"
   ]
  },
  {
   "cell_type": "code",
   "execution_count": 4,
   "metadata": {},
   "outputs": [
    {
     "data": {
      "text/plain": [
       "['ps1019', 'ps1448', 'ps1412', 'ps1476', 'ps1427']"
      ]
     },
     "execution_count": 4,
     "metadata": {},
     "output_type": "execute_result"
    }
   ],
   "source": [
    "names = []\n",
    "for file in input_file_list:\n",
    "    names.append(os.path.basename(file).split('.')[0])\n",
    "names[:5]"
   ]
  },
  {
   "cell_type": "markdown",
   "metadata": {},
   "source": [
    "# rename file"
   ]
  },
  {
   "cell_type": "code",
   "execution_count": null,
   "metadata": {},
   "outputs": [],
   "source": [
    "material = 'ps'\n",
    "num = 1000"
   ]
  },
  {
   "cell_type": "code",
   "execution_count": null,
   "metadata": {},
   "outputs": [],
   "source": [
    "for name in tqdm(names):\n",
    "    img_path = input_dir+name+'.png'\n",
    "    xml_path = input_dir+name+'.xml'\n",
    "    \n",
    "    new_img_path = input_dir+material+str(num)+'.png'\n",
    "    new_xml_path = input_dir+material+str(num)+'.xml'\n",
    "    \n",
    "    if(not os.path.isfile(img_path)):\n",
    "        print(material+str(num)+\".png 파일이 없습니다.\")\n",
    "        break\n",
    "    if(not os.path.isfile(xml_path)):\n",
    "        print(material+str(num)+\".xml 파일이 없습니다.\")\n",
    "        break\n",
    "        \n",
    "    os.rename(img_path,new_img_path)\n",
    "    os.rename(xml_path,new_xml_path)\n",
    "    \n",
    "    num+=1"
   ]
  },
  {
   "cell_type": "markdown",
   "metadata": {},
   "source": [
    "# modify"
   ]
  },
  {
   "cell_type": "code",
   "execution_count": 5,
   "metadata": {},
   "outputs": [],
   "source": [
    "material = 'ps'\n",
    "num = 1"
   ]
  },
  {
   "cell_type": "code",
   "execution_count": 6,
   "metadata": {},
   "outputs": [
    {
     "name": "stderr",
     "output_type": "stream",
     "text": [
      "100%|██████████| 661/661 [00:00<00:00, 4451.50it/s]\n"
     ]
    }
   ],
   "source": [
    "for name in tqdm(names):\n",
    "    img_path = input_dir+name+'.png'\n",
    "    xml_path = input_dir+name+'.xml'\n",
    "    \n",
    "    new_img_path = input_dir+material+str(num)+'.png'\n",
    "    new_xml_path = input_dir+material+str(num)+'.xml'\n",
    "    \n",
    "    if(not os.path.isfile(img_path)):\n",
    "        print(material+str(num)+\".png 파일이 없습니다.\")\n",
    "        break\n",
    "    if(not os.path.isfile(xml_path)):\n",
    "        print(material+str(num)+\".xml 파일이 없습니다.\")\n",
    "        break\n",
    "    \n",
    "    xml_file = open(xml_path, 'rt', encoding='UTF8')\n",
    "\n",
    "    tree = ET.parse(xml_file)\n",
    "    root = tree.getroot()\n",
    "    \n",
    "    folder_tag = root.find(\"folder\")\n",
    "    modified_folder = material\n",
    "    folder_tag.text = modified_folder\n",
    "    \n",
    "    filename_tag = root.find(\"filename\")\n",
    "    modified_filename = material+str(num)+'.png'\n",
    "    filename_tag.text = modified_filename\n",
    "    \n",
    "    path_tag = root.find(\"path\")\n",
    "    modified_path = '/home/hogbal/RUP/dataset/'+material+'/'+material+str(num)+'.png'\n",
    "    path_tag.text = modified_path\n",
    "    \n",
    "    tree.write(xml_path)\n",
    "    \n",
    "    os.rename(img_path,new_img_path)\n",
    "    os.rename(xml_path,new_xml_path)\n",
    "    \n",
    "    num+=1"
   ]
  },
  {
   "cell_type": "code",
   "execution_count": null,
   "metadata": {},
   "outputs": [],
   "source": []
  }
 ],
 "metadata": {
  "kernelspec": {
   "display_name": "Python 3",
   "language": "python",
   "name": "python3"
  },
  "language_info": {
   "codemirror_mode": {
    "name": "ipython",
    "version": 3
   },
   "file_extension": ".py",
   "mimetype": "text/x-python",
   "name": "python",
   "nbconvert_exporter": "python",
   "pygments_lexer": "ipython3",
   "version": "3.6.9"
  }
 },
 "nbformat": 4,
 "nbformat_minor": 2
}
