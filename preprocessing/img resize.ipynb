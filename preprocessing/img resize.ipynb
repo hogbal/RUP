{
 "cells": [
  {
   "cell_type": "markdown",
   "id": "extraordinary-taste",
   "metadata": {},
   "source": [
    "# import"
   ]
  },
  {
   "cell_type": "code",
   "execution_count": 11,
   "id": "departmental-intro",
   "metadata": {},
   "outputs": [],
   "source": [
    "import cv2\n",
    "import os\n",
    "from glob import glob\n",
    "from tqdm import tqdm\n",
    "import matplotlib.pyplot as plt"
   ]
  },
  {
   "cell_type": "markdown",
   "id": "extended-journal",
   "metadata": {},
   "source": [
    "# resize"
   ]
  },
  {
   "cell_type": "code",
   "execution_count": 18,
   "id": "corporate-tulsa",
   "metadata": {},
   "outputs": [],
   "source": [
    "input_path = 'C:/Users/hogbal/Desktop/object_detection/preprocessing/input/'\n",
    "output_path = 'C:/Users/hogbal/Desktop/object_detection/preprocessing/output/'\n",
    "\n",
    "count = 101\n",
    "label = 'ps'\n",
    "format_img = '*.jpg'"
   ]
  },
  {
   "cell_type": "code",
   "execution_count": 19,
   "id": "adjusted-welding",
   "metadata": {},
   "outputs": [],
   "source": [
    "def conversion(label, input_path, output_path, count):\n",
    "    for image_path in tqdm(input_path):\n",
    "        image = cv2.imread(image_path)\n",
    "        resize_img = cv2.resize(image, (640, 640))\n",
    "        cv2.imwrite(output_path+label+str(count)+'.png',resize_img)\n",
    "        os.remove(image_path)\n",
    "        count += 1"
   ]
  },
  {
   "cell_type": "code",
   "execution_count": 20,
   "id": "built-attention",
   "metadata": {},
   "outputs": [
    {
     "name": "stderr",
     "output_type": "stream",
     "text": [
      "100%|████████████████████████████████████████████████████████████████████████████████| 496/496 [01:01<00:00,  8.01it/s]\n"
     ]
    }
   ],
   "source": [
    "img_path = glob(input_path+format_img)\n",
    "\n",
    "conversion(label,img_path,output_path,count)"
   ]
  },
  {
   "cell_type": "code",
   "execution_count": null,
   "id": "chemical-divorce",
   "metadata": {},
   "outputs": [],
   "source": []
  }
 ],
 "metadata": {
  "kernelspec": {
   "display_name": "Python 3",
   "language": "python",
   "name": "python3"
  },
  "language_info": {
   "codemirror_mode": {
    "name": "ipython",
    "version": 3
   },
   "file_extension": ".py",
   "mimetype": "text/x-python",
   "name": "python",
   "nbconvert_exporter": "python",
   "pygments_lexer": "ipython3",
   "version": "3.8.8"
  }
 },
 "nbformat": 4,
 "nbformat_minor": 5
}
