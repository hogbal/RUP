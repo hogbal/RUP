{
 "cells": [
  {
   "cell_type": "markdown",
   "id": "e6b80d4d",
   "metadata": {},
   "source": [
    "# import"
   ]
  },
  {
   "cell_type": "code",
   "execution_count": 1,
   "id": "e8c739ff",
   "metadata": {
    "ExecuteTime": {
     "end_time": "2021-06-20T08:09:24.645325Z",
     "start_time": "2021-06-20T08:09:24.641240Z"
    }
   },
   "outputs": [],
   "source": [
    "import os\n",
    "from glob import glob"
   ]
  },
  {
   "cell_type": "markdown",
   "id": "9602e0f4",
   "metadata": {},
   "source": [
    "# create train"
   ]
  },
  {
   "cell_type": "code",
   "execution_count": 6,
   "id": "0858e2b0",
   "metadata": {
    "ExecuteTime": {
     "end_time": "2021-06-20T08:10:58.229506Z",
     "start_time": "2021-06-20T08:10:58.218478Z"
    }
   },
   "outputs": [
    {
     "data": {
      "text/plain": [
       "['/tf/notebooks/darknet/data/train/ps1069.jpg',\n",
       " '/tf/notebooks/darknet/data/train/pet311.jpg',\n",
       " '/tf/notebooks/darknet/data/train/pet104.jpg',\n",
       " '/tf/notebooks/darknet/data/train/ps1043.jpg',\n",
       " '/tf/notebooks/darknet/data/train/pet741.jpg']"
      ]
     },
     "execution_count": 6,
     "metadata": {},
     "output_type": "execute_result"
    }
   ],
   "source": [
    "file_dir = glob('/tf/notebooks/darknet/data/train/*.jpg')\n",
    "file_dir[:5]"
   ]
  },
  {
   "cell_type": "code",
   "execution_count": 7,
   "id": "22f5e9e0",
   "metadata": {
    "ExecuteTime": {
     "end_time": "2021-06-20T08:11:00.210829Z",
     "start_time": "2021-06-20T08:11:00.203716Z"
    }
   },
   "outputs": [],
   "source": [
    "f = open('/tf/notebooks/darknet/data/train.txt','w')"
   ]
  },
  {
   "cell_type": "code",
   "execution_count": 8,
   "id": "ae6ff6cd",
   "metadata": {
    "ExecuteTime": {
     "end_time": "2021-06-20T08:11:00.506406Z",
     "start_time": "2021-06-20T08:11:00.501233Z"
    }
   },
   "outputs": [],
   "source": [
    "for i in range(len(file_dir)):\n",
    "    f.write(file_dir[i]+'\\n')\n",
    "f.close()"
   ]
  },
  {
   "cell_type": "markdown",
   "id": "459a6ef7",
   "metadata": {},
   "source": [
    "# create test"
   ]
  },
  {
   "cell_type": "code",
   "execution_count": 11,
   "id": "0abd5e43",
   "metadata": {
    "ExecuteTime": {
     "end_time": "2021-06-20T08:11:57.124082Z",
     "start_time": "2021-06-20T08:11:57.118564Z"
    }
   },
   "outputs": [
    {
     "data": {
      "text/plain": [
       "['/tf/notebooks/darknet/data/test/ps704.jpg',\n",
       " '/tf/notebooks/darknet/data/test/pet80.jpg',\n",
       " '/tf/notebooks/darknet/data/test/ps518.jpg',\n",
       " '/tf/notebooks/darknet/data/test/pet488.jpg',\n",
       " '/tf/notebooks/darknet/data/test/pp758.jpg']"
      ]
     },
     "execution_count": 11,
     "metadata": {},
     "output_type": "execute_result"
    }
   ],
   "source": [
    "file_dir = glob('/tf/notebooks/darknet/data/test/*.jpg')\n",
    "file_dir[:5]"
   ]
  },
  {
   "cell_type": "code",
   "execution_count": 12,
   "id": "ad2ec629",
   "metadata": {
    "ExecuteTime": {
     "end_time": "2021-06-20T08:12:04.200738Z",
     "start_time": "2021-06-20T08:12:04.196411Z"
    }
   },
   "outputs": [],
   "source": [
    "f = open('/tf/notebooks/darknet/data/test.txt','w')"
   ]
  },
  {
   "cell_type": "code",
   "execution_count": 13,
   "id": "b9a442b6",
   "metadata": {
    "ExecuteTime": {
     "end_time": "2021-06-20T08:12:04.344546Z",
     "start_time": "2021-06-20T08:12:04.335773Z"
    }
   },
   "outputs": [],
   "source": [
    "for i in range(len(file_dir)):\n",
    "    f.write(file_dir[i]+'\\n')\n",
    "f.close()"
   ]
  },
  {
   "cell_type": "code",
   "execution_count": null,
   "id": "a770b49b",
   "metadata": {},
   "outputs": [],
   "source": []
  }
 ],
 "metadata": {
  "kernelspec": {
   "display_name": "Python 3",
   "language": "python",
   "name": "python3"
  },
  "language_info": {
   "codemirror_mode": {
    "name": "ipython",
    "version": 3
   },
   "file_extension": ".py",
   "mimetype": "text/x-python",
   "name": "python",
   "nbconvert_exporter": "python",
   "pygments_lexer": "ipython3",
   "version": "3.6.9"
  },
  "toc": {
   "base_numbering": 1,
   "nav_menu": {},
   "number_sections": true,
   "sideBar": true,
   "skip_h1_title": false,
   "title_cell": "Table of Contents",
   "title_sidebar": "Contents",
   "toc_cell": false,
   "toc_position": {},
   "toc_section_display": true,
   "toc_window_display": false
  },
  "varInspector": {
   "cols": {
    "lenName": 16,
    "lenType": 16,
    "lenVar": 40
   },
   "kernels_config": {
    "python": {
     "delete_cmd_postfix": "",
     "delete_cmd_prefix": "del ",
     "library": "var_list.py",
     "varRefreshCmd": "print(var_dic_list())"
    },
    "r": {
     "delete_cmd_postfix": ") ",
     "delete_cmd_prefix": "rm(",
     "library": "var_list.r",
     "varRefreshCmd": "cat(var_dic_list()) "
    }
   },
   "types_to_exclude": [
    "module",
    "function",
    "builtin_function_or_method",
    "instance",
    "_Feature"
   ],
   "window_display": false
  }
 },
 "nbformat": 4,
 "nbformat_minor": 5
}
