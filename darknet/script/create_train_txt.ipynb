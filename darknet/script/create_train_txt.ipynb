{
 "cells": [
  {
   "cell_type": "markdown",
   "id": "e6b80d4d",
   "metadata": {},
   "source": [
    "# import"
   ]
  },
  {
   "cell_type": "code",
   "execution_count": 1,
   "id": "e8c739ff",
   "metadata": {
    "ExecuteTime": {
     "end_time": "2021-06-18T00:58:12.413229Z",
     "start_time": "2021-06-18T00:58:12.406572Z"
    }
   },
   "outputs": [],
   "source": [
    "import os\n",
    "from glob import glob"
   ]
  },
  {
   "cell_type": "markdown",
   "id": "9602e0f4",
   "metadata": {},
   "source": [
    "# create"
   ]
  },
  {
   "cell_type": "code",
   "execution_count": 2,
   "id": "0858e2b0",
   "metadata": {
    "ExecuteTime": {
     "end_time": "2021-06-18T00:58:12.792645Z",
     "start_time": "2021-06-18T00:58:12.755830Z"
    }
   },
   "outputs": [
    {
     "data": {
      "text/plain": [
       "['/tf/notebooks/darknet/build/darknet/x64/data/obj/ps704.jpg',\n",
       " '/tf/notebooks/darknet/build/darknet/x64/data/obj/ps1069.jpg',\n",
       " '/tf/notebooks/darknet/build/darknet/x64/data/obj/pet311.jpg',\n",
       " '/tf/notebooks/darknet/build/darknet/x64/data/obj/pet104.jpg',\n",
       " '/tf/notebooks/darknet/build/darknet/x64/data/obj/ps1043.jpg']"
      ]
     },
     "execution_count": 2,
     "metadata": {},
     "output_type": "execute_result"
    }
   ],
   "source": [
    "file_dir = glob('/tf/notebooks/darknet/build/darknet/x64/data/obj/*.jpg')\n",
    "file_dir[:5]"
   ]
  },
  {
   "cell_type": "code",
   "execution_count": 3,
   "id": "22f5e9e0",
   "metadata": {
    "ExecuteTime": {
     "end_time": "2021-06-18T00:58:12.954174Z",
     "start_time": "2021-06-18T00:58:12.945999Z"
    }
   },
   "outputs": [],
   "source": [
    "f = open('/tf/notebooks/darknet/build/darknet/x64/data/train.txt','w')"
   ]
  },
  {
   "cell_type": "code",
   "execution_count": 4,
   "id": "ae6ff6cd",
   "metadata": {
    "ExecuteTime": {
     "end_time": "2021-06-18T00:58:14.866520Z",
     "start_time": "2021-06-18T00:58:14.863663Z"
    }
   },
   "outputs": [],
   "source": [
    "for i in range(len(file_dir)):\n",
    "    f.write(file_dir[i]+'\\n')\n",
    "f.close()"
   ]
  },
  {
   "cell_type": "code",
   "execution_count": null,
   "id": "1bb8d347",
   "metadata": {},
   "outputs": [],
   "source": []
  }
 ],
 "metadata": {
  "kernelspec": {
   "display_name": "Python 3",
   "language": "python",
   "name": "python3"
  },
  "language_info": {
   "codemirror_mode": {
    "name": "ipython",
    "version": 3
   },
   "file_extension": ".py",
   "mimetype": "text/x-python",
   "name": "python",
   "nbconvert_exporter": "python",
   "pygments_lexer": "ipython3",
   "version": "3.6.9"
  },
  "toc": {
   "base_numbering": 1,
   "nav_menu": {},
   "number_sections": true,
   "sideBar": true,
   "skip_h1_title": false,
   "title_cell": "Table of Contents",
   "title_sidebar": "Contents",
   "toc_cell": false,
   "toc_position": {},
   "toc_section_display": true,
   "toc_window_display": false
  },
  "varInspector": {
   "cols": {
    "lenName": 16,
    "lenType": 16,
    "lenVar": 40
   },
   "kernels_config": {
    "python": {
     "delete_cmd_postfix": "",
     "delete_cmd_prefix": "del ",
     "library": "var_list.py",
     "varRefreshCmd": "print(var_dic_list())"
    },
    "r": {
     "delete_cmd_postfix": ") ",
     "delete_cmd_prefix": "rm(",
     "library": "var_list.r",
     "varRefreshCmd": "cat(var_dic_list()) "
    }
   },
   "types_to_exclude": [
    "module",
    "function",
    "builtin_function_or_method",
    "instance",
    "_Feature"
   ],
   "window_display": false
  }
 },
 "nbformat": 4,
 "nbformat_minor": 5
}
