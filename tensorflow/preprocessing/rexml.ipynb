{
 "cells": [
  {
   "cell_type": "markdown",
   "id": "asian-auction",
   "metadata": {},
   "source": [
    "# import"
   ]
  },
  {
   "cell_type": "code",
   "execution_count": 2,
   "id": "announced-finish",
   "metadata": {},
   "outputs": [],
   "source": [
    "import os\n",
    "import xml.etree.ElementTree as ET"
   ]
  },
  {
   "cell_type": "markdown",
   "id": "applicable-romantic",
   "metadata": {},
   "source": [
    "# 경로, 파일이름 고치기"
   ]
  },
  {
   "cell_type": "code",
   "execution_count": 3,
   "id": "greatest-swing",
   "metadata": {},
   "outputs": [],
   "source": [
    "targetDir = r\"C:\\Users\\hogbal\\Desktop\\ps\"\n",
    "\n",
    "##targetDir에서 .xml파일 이름들 리스트로 가져오기\n",
    "file_list = os.listdir(targetDir)\n",
    "xml_list = []\n",
    "for file in file_list:\n",
    "    if '.xml' in file:\n",
    "        xml_list.append(file)"
   ]
  },
  {
   "cell_type": "code",
   "execution_count": 4,
   "id": "continued-ministry",
   "metadata": {},
   "outputs": [
    {
     "data": {
      "text/plain": [
       "(561, 'ps101.xml')"
      ]
     },
     "execution_count": 4,
     "metadata": {},
     "output_type": "execute_result"
    }
   ],
   "source": [
    "len(xml_list), xml_list[0]"
   ]
  },
  {
   "cell_type": "code",
   "execution_count": 5,
   "id": "convenient-memory",
   "metadata": {},
   "outputs": [],
   "source": [
    "count = 101\n",
    "\n",
    "for xml_file in xml_list:\n",
    "    target_path = targetDir + \"\\\\\" + xml_file\n",
    "    targetXML = open(target_path, 'rt', encoding='UTF8')\n",
    "\n",
    "    tree = ET.parse(targetXML)\n",
    "\n",
    "    root = tree.getroot()\n",
    "\n",
    "    target_tag1 = root.find(\"filename\")\n",
    "    original1 = target_tag1.text     #원본 String\n",
    "    modified1 = 'ps'+str(count)+'.png'\n",
    "    target_tag1.text = modified1 #수정\n",
    "    \n",
    "    target_tag2 = root.find(\"path\")\n",
    "    original2 = target_tag2.text     #원본 String\n",
    "    modified2 = 'C:/Users/hogba/Desktop/ps'+str(count)+'.png'\n",
    "    modified2 = modified2.replace(\"/\", \"\\\\\")\n",
    "    target_tag2.text = modified2  #수정\n",
    "    \n",
    "    tree.write(target_path)\n",
    "    count += 1"
   ]
  },
  {
   "cell_type": "markdown",
   "id": "romantic-spouse",
   "metadata": {},
   "source": [
    "# 파일 경로 고치기"
   ]
  },
  {
   "cell_type": "code",
   "execution_count": 7,
   "id": "cardiovascular-timing",
   "metadata": {},
   "outputs": [],
   "source": [
    "targetDir = r\"C:\\Users\\hogba\\Desktop\\object_detection\\workspace\\training_rup\\images\\test\"\n",
    "\n",
    "##targetDir에서 .xml파일 이름들 리스트로 가져오기\n",
    "file_list = os.listdir(targetDir)\n",
    "xml_list = []\n",
    "for file in file_list:\n",
    "    if '.xml' in file:\n",
    "        xml_list.append(file)"
   ]
  },
  {
   "cell_type": "code",
   "execution_count": 11,
   "id": "established-sherman",
   "metadata": {},
   "outputs": [],
   "source": [
    "for xml_file in xml_list:\n",
    "    target_path = targetDir + \"\\\\\" + xml_file\n",
    "    targetXML = open(target_path, 'rt', encoding='UTF8')\n",
    "\n",
    "    tree = ET.parse(targetXML)\n",
    "\n",
    "    root = tree.getroot()\n",
    "\n",
    "    target_tag1 = root.find(\"filename\")\n",
    "    filename = target_tag1.text\n",
    "    \n",
    "    target_tag2 = root.find(\"path\")\n",
    "\n",
    "    original = target_tag2.text     #원본 String\n",
    "    modified = 'C:/Users/hogba/Desktop/object_detection/workspace/training_rup/images/test/'+str(filename)\n",
    "    modified = modified.replace(\"/\", \"\\\\\")\n",
    "    target_tag2.text = modified  #수정\n",
    "    \n",
    "    tree.write(target_path)"
   ]
  },
  {
   "cell_type": "code",
   "execution_count": null,
   "id": "completed-emperor",
   "metadata": {},
   "outputs": [],
   "source": []
  }
 ],
 "metadata": {
  "kernelspec": {
   "display_name": "Python 3",
   "language": "python",
   "name": "python3"
  },
  "language_info": {
   "codemirror_mode": {
    "name": "ipython",
    "version": 3
   },
   "file_extension": ".py",
   "mimetype": "text/x-python",
   "name": "python",
   "nbconvert_exporter": "python",
   "pygments_lexer": "ipython3",
   "version": "3.8.8"
  }
 },
 "nbformat": 4,
 "nbformat_minor": 5
}
